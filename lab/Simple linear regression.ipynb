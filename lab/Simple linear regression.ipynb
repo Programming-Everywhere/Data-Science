{
 "cells": [
  {
   "cell_type": "code",
   "execution_count": 1,
   "metadata": {},
   "outputs": [
    {
     "name": "stdout",
     "output_type": "stream",
     "text": [
      "\u001b[31mERROR: Could not find a version that satisfies the requirement statsmodel (from versions: none)\u001b[0m\n",
      "\u001b[31mERROR: No matching distribution found for statsmodel\u001b[0m\n",
      "Note: you may need to restart the kernel to use updated packages.\n"
     ]
    }
   ],
   "source": [
    "pip install --user statsmodel"
   ]
  },
  {
   "cell_type": "code",
   "execution_count": 2,
   "metadata": {},
   "outputs": [],
   "source": [
    "import numpy as np\n",
    "import matplotlib.pyplot as plt\n",
    "import pandas as pd\n",
    "import seaborn as sns\n",
    "import statsmodels.formula.api as smf\n",
    "%matplotlib inline\n",
    "\n"
   ]
  },
  {
   "cell_type": "code",
   "execution_count": 3,
   "metadata": {},
   "outputs": [
    {
     "name": "stderr",
     "output_type": "stream",
     "text": [
      "<ipython-input-3-6cf9ec095edc>:1: ParserWarning: Falling back to the 'python' engine because the 'c' engine does not support skipfooter; you can avoid this warning by specifying engine='python'.\n",
      "  labor = pd.read_csv(\"/Users/xiaolongl/Downloads/Feb2019_labor_market_majors.csv\",skiprows = 13, skipfooter = 3)\n"
     ]
    }
   ],
   "source": [
    "labor = pd.read_csv(\"/Users/xiaolongl/Downloads/Feb2019_labor_market_majors.csv\",skiprows = 13, skipfooter = 3)"
   ]
  },
  {
   "cell_type": "code",
   "execution_count": 4,
   "metadata": {},
   "outputs": [
    {
     "data": {
      "text/html": [
       "<div>\n",
       "<style scoped>\n",
       "    .dataframe tbody tr th:only-of-type {\n",
       "        vertical-align: middle;\n",
       "    }\n",
       "\n",
       "    .dataframe tbody tr th {\n",
       "        vertical-align: top;\n",
       "    }\n",
       "\n",
       "    .dataframe thead th {\n",
       "        text-align: right;\n",
       "    }\n",
       "</style>\n",
       "<table border=\"1\" class=\"dataframe\">\n",
       "  <thead>\n",
       "    <tr style=\"text-align: right;\">\n",
       "      <th></th>\n",
       "      <th>Major</th>\n",
       "      <th>Unemployment Rate</th>\n",
       "      <th>Underemployment Rate</th>\n",
       "      <th>Median Wage Early Career</th>\n",
       "      <th>Median Wage Mid-Career</th>\n",
       "      <th>Share with Graduate Degree</th>\n",
       "    </tr>\n",
       "  </thead>\n",
       "  <tbody>\n",
       "    <tr>\n",
       "      <th>0</th>\n",
       "      <td>Agriculture</td>\n",
       "      <td>3.1</td>\n",
       "      <td>53.9</td>\n",
       "      <td>40,000</td>\n",
       "      <td>60,000</td>\n",
       "      <td>20.8</td>\n",
       "    </tr>\n",
       "    <tr>\n",
       "      <th>1</th>\n",
       "      <td>Animal and Plant Sciences</td>\n",
       "      <td>3.0</td>\n",
       "      <td>57.4</td>\n",
       "      <td>35,000</td>\n",
       "      <td>60,000</td>\n",
       "      <td>34.8</td>\n",
       "    </tr>\n",
       "    <tr>\n",
       "      <th>2</th>\n",
       "      <td>Environmental Studies</td>\n",
       "      <td>4.6</td>\n",
       "      <td>49.3</td>\n",
       "      <td>36,000</td>\n",
       "      <td>65,000</td>\n",
       "      <td>32.2</td>\n",
       "    </tr>\n",
       "    <tr>\n",
       "      <th>3</th>\n",
       "      <td>Architecture</td>\n",
       "      <td>4.3</td>\n",
       "      <td>26.6</td>\n",
       "      <td>45,000</td>\n",
       "      <td>75,000</td>\n",
       "      <td>37.4</td>\n",
       "    </tr>\n",
       "    <tr>\n",
       "      <th>4</th>\n",
       "      <td>Ethnic Studies</td>\n",
       "      <td>5.7</td>\n",
       "      <td>50.1</td>\n",
       "      <td>38,000</td>\n",
       "      <td>57,000</td>\n",
       "      <td>49.4</td>\n",
       "    </tr>\n",
       "    <tr>\n",
       "      <th>...</th>\n",
       "      <td>...</td>\n",
       "      <td>...</td>\n",
       "      <td>...</td>\n",
       "      <td>...</td>\n",
       "      <td>...</td>\n",
       "      <td>...</td>\n",
       "    </tr>\n",
       "    <tr>\n",
       "      <th>68</th>\n",
       "      <td>Finance</td>\n",
       "      <td>3.5</td>\n",
       "      <td>37.0</td>\n",
       "      <td>52,000</td>\n",
       "      <td>85,000</td>\n",
       "      <td>30.5</td>\n",
       "    </tr>\n",
       "    <tr>\n",
       "      <th>69</th>\n",
       "      <td>International Affairs</td>\n",
       "      <td>4.7</td>\n",
       "      <td>49.7</td>\n",
       "      <td>45,000</td>\n",
       "      <td>75,000</td>\n",
       "      <td>42.6</td>\n",
       "    </tr>\n",
       "    <tr>\n",
       "      <th>70</th>\n",
       "      <td>History</td>\n",
       "      <td>4.1</td>\n",
       "      <td>53.1</td>\n",
       "      <td>36,000</td>\n",
       "      <td>66,000</td>\n",
       "      <td>49.4</td>\n",
       "    </tr>\n",
       "    <tr>\n",
       "      <th>71</th>\n",
       "      <td>Engineering Technologies</td>\n",
       "      <td>5.3</td>\n",
       "      <td>40.9</td>\n",
       "      <td>50,000</td>\n",
       "      <td>80,000</td>\n",
       "      <td>24.3</td>\n",
       "    </tr>\n",
       "    <tr>\n",
       "      <th>72</th>\n",
       "      <td>Miscellaneous Technologies</td>\n",
       "      <td>6.4</td>\n",
       "      <td>58.0</td>\n",
       "      <td>37,000</td>\n",
       "      <td>72,000</td>\n",
       "      <td>16.8</td>\n",
       "    </tr>\n",
       "  </tbody>\n",
       "</table>\n",
       "<p>73 rows × 6 columns</p>\n",
       "</div>"
      ],
      "text/plain": [
       "                         Major  Unemployment Rate  Underemployment Rate  \\\n",
       "0                  Agriculture                3.1                  53.9   \n",
       "1    Animal and Plant Sciences                3.0                  57.4   \n",
       "2        Environmental Studies                4.6                  49.3   \n",
       "3                 Architecture                4.3                  26.6   \n",
       "4               Ethnic Studies                5.7                  50.1   \n",
       "..                         ...                ...                   ...   \n",
       "68                     Finance                3.5                  37.0   \n",
       "69       International Affairs                4.7                  49.7   \n",
       "70                     History                4.1                  53.1   \n",
       "71    Engineering Technologies                5.3                  40.9   \n",
       "72  Miscellaneous Technologies                6.4                  58.0   \n",
       "\n",
       "   Median Wage Early Career Median Wage Mid-Career  Share with Graduate Degree  \n",
       "0                    40,000                 60,000                        20.8  \n",
       "1                    35,000                 60,000                        34.8  \n",
       "2                    36,000                 65,000                        32.2  \n",
       "3                    45,000                 75,000                        37.4  \n",
       "4                    38,000                 57,000                        49.4  \n",
       "..                      ...                    ...                         ...  \n",
       "68                   52,000                 85,000                        30.5  \n",
       "69                   45,000                 75,000                        42.6  \n",
       "70                   36,000                 66,000                        49.4  \n",
       "71                   50,000                 80,000                        24.3  \n",
       "72                   37,000                 72,000                        16.8  \n",
       "\n",
       "[73 rows x 6 columns]"
      ]
     },
     "execution_count": 4,
     "metadata": {},
     "output_type": "execute_result"
    }
   ],
   "source": [
    "labor"
   ]
  },
  {
   "cell_type": "code",
   "execution_count": 5,
   "metadata": {},
   "outputs": [],
   "source": [
    "labor.columns = [\"major\",\"unemployment\",\"underemployment\",\"early\",\"mid\",\"graduate\"]"
   ]
  },
  {
   "cell_type": "code",
   "execution_count": 6,
   "metadata": {},
   "outputs": [],
   "source": [
    "labor[\"early\"] = labor[\"early\"].str.replace(\",\",\"\").astype(float)\n",
    "labor[\"mid\"] = labor[\"mid\"].str.replace(\",\",\"\").astype(float)"
   ]
  },
  {
   "cell_type": "code",
   "execution_count": 7,
   "metadata": {},
   "outputs": [
    {
     "data": {
      "text/html": [
       "<div>\n",
       "<style scoped>\n",
       "    .dataframe tbody tr th:only-of-type {\n",
       "        vertical-align: middle;\n",
       "    }\n",
       "\n",
       "    .dataframe tbody tr th {\n",
       "        vertical-align: top;\n",
       "    }\n",
       "\n",
       "    .dataframe thead th {\n",
       "        text-align: right;\n",
       "    }\n",
       "</style>\n",
       "<table border=\"1\" class=\"dataframe\">\n",
       "  <thead>\n",
       "    <tr style=\"text-align: right;\">\n",
       "      <th></th>\n",
       "      <th>major</th>\n",
       "      <th>unemployment</th>\n",
       "      <th>underemployment</th>\n",
       "      <th>early</th>\n",
       "      <th>mid</th>\n",
       "      <th>graduate</th>\n",
       "    </tr>\n",
       "  </thead>\n",
       "  <tbody>\n",
       "    <tr>\n",
       "      <th>0</th>\n",
       "      <td>Agriculture</td>\n",
       "      <td>3.1</td>\n",
       "      <td>53.9</td>\n",
       "      <td>40000.0</td>\n",
       "      <td>60000.0</td>\n",
       "      <td>20.8</td>\n",
       "    </tr>\n",
       "    <tr>\n",
       "      <th>1</th>\n",
       "      <td>Animal and Plant Sciences</td>\n",
       "      <td>3.0</td>\n",
       "      <td>57.4</td>\n",
       "      <td>35000.0</td>\n",
       "      <td>60000.0</td>\n",
       "      <td>34.8</td>\n",
       "    </tr>\n",
       "    <tr>\n",
       "      <th>2</th>\n",
       "      <td>Environmental Studies</td>\n",
       "      <td>4.6</td>\n",
       "      <td>49.3</td>\n",
       "      <td>36000.0</td>\n",
       "      <td>65000.0</td>\n",
       "      <td>32.2</td>\n",
       "    </tr>\n",
       "    <tr>\n",
       "      <th>3</th>\n",
       "      <td>Architecture</td>\n",
       "      <td>4.3</td>\n",
       "      <td>26.6</td>\n",
       "      <td>45000.0</td>\n",
       "      <td>75000.0</td>\n",
       "      <td>37.4</td>\n",
       "    </tr>\n",
       "    <tr>\n",
       "      <th>4</th>\n",
       "      <td>Ethnic Studies</td>\n",
       "      <td>5.7</td>\n",
       "      <td>50.1</td>\n",
       "      <td>38000.0</td>\n",
       "      <td>57000.0</td>\n",
       "      <td>49.4</td>\n",
       "    </tr>\n",
       "  </tbody>\n",
       "</table>\n",
       "</div>"
      ],
      "text/plain": [
       "                       major  unemployment  underemployment    early      mid  \\\n",
       "0                Agriculture           3.1             53.9  40000.0  60000.0   \n",
       "1  Animal and Plant Sciences           3.0             57.4  35000.0  60000.0   \n",
       "2      Environmental Studies           4.6             49.3  36000.0  65000.0   \n",
       "3               Architecture           4.3             26.6  45000.0  75000.0   \n",
       "4             Ethnic Studies           5.7             50.1  38000.0  57000.0   \n",
       "\n",
       "   graduate  \n",
       "0      20.8  \n",
       "1      34.8  \n",
       "2      32.2  \n",
       "3      37.4  \n",
       "4      49.4  "
      ]
     },
     "execution_count": 7,
     "metadata": {},
     "output_type": "execute_result"
    }
   ],
   "source": [
    "labor.head()"
   ]
  },
  {
   "cell_type": "code",
   "execution_count": 8,
   "metadata": {},
   "outputs": [
    {
     "data": {
      "text/plain": [
       "Text(0, 0.5, 'Median Wage Mid-Career')"
      ]
     },
     "execution_count": 8,
     "metadata": {},
     "output_type": "execute_result"
    },
    {
     "data": {
      "image/png": "[encoded data removed]",
      "text/plain": [
       "<Figure size 432x288 with 1 Axes>"
      ]
     },
     "metadata": {
      "needs_background": "light"
     },
     "output_type": "display_data"
    }
   ],
   "source": [
    "labor.plot.scatter(x = \"early\", y = \"mid\")\n",
    "plt.xlabel(\"Median Wage Early Career\")\n",
    "plt.ylabel(\"Median Wage Mid-Career\")"
   ]
  },
  {
   "cell_type": "code",
   "execution_count": 9,
   "metadata": {},
   "outputs": [],
   "source": [
    "lm = smf.ols(formula = 'mid ~ early', data = labor).fit()"
   ]
  },
  {
   "cell_type": "code",
   "execution_count": 10,
   "metadata": {},
   "outputs": [
    {
     "data": {
      "text/html": [
       "<table class=\"simpletable\">\n",
       "<caption>OLS Regression Results</caption>\n",
       "<tr>\n",
       "  <th>Dep. Variable:</th>           <td>mid</td>       <th>  R-squared:         </th> <td>   0.719</td>\n",
       "</tr>\n",
       "<tr>\n",
       "  <th>Model:</th>                   <td>OLS</td>       <th>  Adj. R-squared:    </th> <td>   0.715</td>\n",
       "</tr>\n",
       "<tr>\n",
       "  <th>Method:</th>             <td>Least Squares</td>  <th>  F-statistic:       </th> <td>   181.7</td>\n",
       "</tr>\n",
       "<tr>\n",
       "  <th>Date:</th>             <td>Sun, 16 Aug 2020</td> <th>  Prob (F-statistic):</th> <td>2.98e-21</td>\n",
       "</tr>\n",
       "<tr>\n",
       "  <th>Time:</th>                 <td>16:55:37</td>     <th>  Log-Likelihood:    </th> <td> -765.31</td>\n",
       "</tr>\n",
       "<tr>\n",
       "  <th>No. Observations:</th>      <td>    73</td>      <th>  AIC:               </th> <td>   1535.</td>\n",
       "</tr>\n",
       "<tr>\n",
       "  <th>Df Residuals:</th>          <td>    71</td>      <th>  BIC:               </th> <td>   1539.</td>\n",
       "</tr>\n",
       "<tr>\n",
       "  <th>Df Model:</th>              <td>     1</td>      <th>                     </th>     <td> </td>   \n",
       "</tr>\n",
       "<tr>\n",
       "  <th>Covariance Type:</th>      <td>nonrobust</td>    <th>                     </th>     <td> </td>   \n",
       "</tr>\n",
       "</table>\n",
       "<table class=\"simpletable\">\n",
       "<tr>\n",
       "      <td></td>         <th>coef</th>     <th>std err</th>      <th>t</th>      <th>P>|t|</th>  <th>[0.025</th>    <th>0.975]</th>  \n",
       "</tr>\n",
       "<tr>\n",
       "  <th>Intercept</th> <td> 1.014e+04</td> <td> 4498.265</td> <td>    2.254</td> <td> 0.027</td> <td> 1168.816</td> <td> 1.91e+04</td>\n",
       "</tr>\n",
       "<tr>\n",
       "  <th>early</th>     <td>    1.3762</td> <td>    0.102</td> <td>   13.478</td> <td> 0.000</td> <td>    1.173</td> <td>    1.580</td>\n",
       "</tr>\n",
       "</table>\n",
       "<table class=\"simpletable\">\n",
       "<tr>\n",
       "  <th>Omnibus:</th>       <td>64.069</td> <th>  Durbin-Watson:     </th> <td>   1.550</td> \n",
       "</tr>\n",
       "<tr>\n",
       "  <th>Prob(Omnibus):</th> <td> 0.000</td> <th>  Jarque-Bera (JB):  </th> <td> 593.324</td> \n",
       "</tr>\n",
       "<tr>\n",
       "  <th>Skew:</th>          <td> 2.370</td> <th>  Prob(JB):          </th> <td>1.45e-129</td>\n",
       "</tr>\n",
       "<tr>\n",
       "  <th>Kurtosis:</th>      <td>16.137</td> <th>  Cond. No.          </th> <td>1.93e+05</td> \n",
       "</tr>\n",
       "</table><br/><br/>Warnings:<br/>[1] Standard Errors assume that the covariance matrix of the errors is correctly specified.<br/>[2] The condition number is large, 1.93e+05. This might indicate that there are<br/>strong multicollinearity or other numerical problems."
      ],
      "text/plain": [
       "<class 'statsmodels.iolib.summary.Summary'>\n",
       "\"\"\"\n",
       "                            OLS Regression Results                            \n",
       "==============================================================================\n",
       "Dep. Variable:                    mid   R-squared:                       0.719\n",
       "Model:                            OLS   Adj. R-squared:                  0.715\n",
       "Method:                 Least Squares   F-statistic:                     181.7\n",
       "Date:                Sun, 16 Aug 2020   Prob (F-statistic):           2.98e-21\n",
       "Time:                        16:55:37   Log-Likelihood:                -765.31\n",
       "No. Observations:                  73   AIC:                             1535.\n",
       "Df Residuals:                      71   BIC:                             1539.\n",
       "Df Model:                           1                                         \n",
       "Covariance Type:            nonrobust                                         \n",
       "==============================================================================\n",
       "                 coef    std err          t      P>|t|      [0.025      0.975]\n",
       "------------------------------------------------------------------------------\n",
       "Intercept   1.014e+04   4498.265      2.254      0.027    1168.816    1.91e+04\n",
       "early          1.3762      0.102     13.478      0.000       1.173       1.580\n",
       "==============================================================================\n",
       "Omnibus:                       64.069   Durbin-Watson:                   1.550\n",
       "Prob(Omnibus):                  0.000   Jarque-Bera (JB):              593.324\n",
       "Skew:                           2.370   Prob(JB):                    1.45e-129\n",
       "Kurtosis:                      16.137   Cond. No.                     1.93e+05\n",
       "==============================================================================\n",
       "\n",
       "Warnings:\n",
       "[1] Standard Errors assume that the covariance matrix of the errors is correctly specified.\n",
       "[2] The condition number is large, 1.93e+05. This might indicate that there are\n",
       "strong multicollinearity or other numerical problems.\n",
       "\"\"\""
      ]
     },
     "execution_count": 10,
     "metadata": {},
     "output_type": "execute_result"
    }
   ],
   "source": [
    "lm.summary()"
   ]
  },
  {
   "cell_type": "code",
   "execution_count": 11,
   "metadata": {},
   "outputs": [
    {
     "data": {
      "text/plain": [
       "Intercept    10138.101598\n",
       "early            1.376232\n",
       "dtype: float64"
      ]
     },
     "execution_count": 11,
     "metadata": {},
     "output_type": "execute_result"
    }
   ],
   "source": [
    "lm.params"
   ]
  },
  {
   "cell_type": "code",
   "execution_count": 12,
   "metadata": {},
   "outputs": [
    {
     "data": {
      "text/plain": [
       "Text(0, 0.5, 'Median Wage Mid-Career')"
      ]
     },
     "execution_count": 12,
     "metadata": {},
     "output_type": "execute_result"
    },
    {
     "data": {
      "image/png": "[encoded data removed]",
      "text/plain": [
       "<Figure size 432x288 with 1 Axes>"
      ]
     },
     "metadata": {
      "needs_background": "light"
     },
     "output_type": "display_data"
    }
   ],
   "source": [
    "\n",
    "\n",
    "sns.regplot(x = 'early',y = 'mid', data = labor)\n",
    "plt.xlabel(\"Median Wage Early Career\")\n",
    "plt.ylabel(\"Median Wage Mid-Career\")\n",
    "\n"
   ]
  },
  {
   "cell_type": "code",
   "execution_count": 13,
   "metadata": {},
   "outputs": [
    {
     "data": {
      "text/plain": [
       "0     -5187.363306\n",
       "1      1693.794408\n",
       "2      5317.562865\n",
       "3      2931.478981\n",
       "4     -5434.900221\n",
       "          ...     \n",
       "68     3297.858182\n",
       "69     2931.478981\n",
       "70     6317.562865\n",
       "71     1050.321267\n",
       "72    10941.331322\n",
       "Length: 73, dtype: float64"
      ]
     },
     "execution_count": 13,
     "metadata": {},
     "output_type": "execute_result"
    }
   ],
   "source": [
    "lm.resid\n"
   ]
  },
  {
   "cell_type": "code",
   "execution_count": 14,
   "metadata": {},
   "outputs": [
    {
     "data": {
      "text/plain": [
       "<matplotlib.axes._subplots.AxesSubplot at 0x7fb53f786dc0>"
      ]
     },
     "execution_count": 14,
     "metadata": {},
     "output_type": "execute_result"
    },
    {
     "data": {
      "image/png": "[encoded data removed]",
      "text/plain": [
       "<Figure size 432x288 with 1 Axes>"
      ]
     },
     "metadata": {
      "needs_background": "light"
     },
     "output_type": "display_data"
    }
   ],
   "source": [
    "lm.resid.hist()"
   ]
  },
  {
   "cell_type": "code",
   "execution_count": 15,
   "metadata": {},
   "outputs": [
    {
     "data": {
      "text/plain": [
       "major              Pharmacy\n",
       "unemployment            3.7\n",
       "underemployment        28.7\n",
       "early                 40000\n",
       "mid                  115000\n",
       "graduate               58.8\n",
       "Name: 61, dtype: object"
      ]
     },
     "execution_count": 15,
     "metadata": {},
     "output_type": "execute_result"
    }
   ],
   "source": [
    "labor.iloc[labor[\"mid\"].idxmax()]"
   ]
  },
  {
   "cell_type": "code",
   "execution_count": null,
   "metadata": {},
   "outputs": [],
   "source": []
  }
 ],
 "metadata": {
  "kernelspec": {
   "display_name": "Python 3",
   "language": "python",
   "name": "python3"
  },
  "language_info": {
   "codemirror_mode": {
    "name": "ipython",
    "version": 3
   },
   "file_extension": ".py",
   "mimetype": "text/x-python",
   "name": "python",
   "nbconvert_exporter": "python",
   "pygments_lexer": "ipython3",
   "version": "3.8.3"
  }
 },
 "nbformat": 4,
 "nbformat_minor": 4
}
